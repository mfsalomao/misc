{
 "cells": [
  {
   "cell_type": "markdown",
   "metadata": {},
   "source": [
    "Importação de módulos"
   ]
  },
  {
   "cell_type": "code",
   "execution_count": 34,
   "metadata": {},
   "outputs": [],
   "source": [
    "import pandas as pd\n",
    "import numpy as np\n",
    "import matplotlib.pyplot as plt\n",
    "import statistics as st\n",
    "import scipy.stats\n",
    "from sklearn.linear_model import LinearRegression\n",
    "from sklearn.model_selection import train_test_split\n",
    "from sklearn.metrics import r2_score"
   ]
  },
  {
   "cell_type": "markdown",
   "metadata": {},
   "source": [
    "Importação dos dados do Excel"
   ]
  },
  {
   "cell_type": "code",
   "execution_count": 9,
   "metadata": {},
   "outputs": [],
   "source": [
    "series = pd.read_excel('roberto.xlsx', index_col=0)"
   ]
  },
  {
   "cell_type": "markdown",
   "metadata": {},
   "source": [
    "Obtenção dos log-retornos"
   ]
  },
  {
   "cell_type": "code",
   "execution_count": 11,
   "metadata": {},
   "outputs": [
    {
     "data": {
      "text/html": [
       "<div>\n",
       "<style scoped>\n",
       "    .dataframe tbody tr th:only-of-type {\n",
       "        vertical-align: middle;\n",
       "    }\n",
       "\n",
       "    .dataframe tbody tr th {\n",
       "        vertical-align: top;\n",
       "    }\n",
       "\n",
       "    .dataframe thead th {\n",
       "        text-align: right;\n",
       "    }\n",
       "</style>\n",
       "<table border=\"1\" class=\"dataframe\">\n",
       "  <thead>\n",
       "    <tr style=\"text-align: right;\">\n",
       "      <th></th>\n",
       "      <th>IBOV</th>\n",
       "      <th>ITUB4</th>\n",
       "      <th>VALE3</th>\n",
       "      <th>retIBOV</th>\n",
       "      <th>retITUB4</th>\n",
       "      <th>retVALE3</th>\n",
       "    </tr>\n",
       "    <tr>\n",
       "      <th>Data</th>\n",
       "      <th></th>\n",
       "      <th></th>\n",
       "      <th></th>\n",
       "      <th></th>\n",
       "      <th></th>\n",
       "      <th></th>\n",
       "    </tr>\n",
       "  </thead>\n",
       "  <tbody>\n",
       "    <tr>\n",
       "      <th>2021-01-04</th>\n",
       "      <td>118854</td>\n",
       "      <td>30.90</td>\n",
       "      <td>91.46</td>\n",
       "      <td>NaN</td>\n",
       "      <td>NaN</td>\n",
       "      <td>NaN</td>\n",
       "    </tr>\n",
       "    <tr>\n",
       "      <th>2021-01-05</th>\n",
       "      <td>119376</td>\n",
       "      <td>30.70</td>\n",
       "      <td>93.00</td>\n",
       "      <td>0.004382</td>\n",
       "      <td>-0.006494</td>\n",
       "      <td>0.016698</td>\n",
       "    </tr>\n",
       "    <tr>\n",
       "      <th>2021-01-06</th>\n",
       "      <td>119100</td>\n",
       "      <td>31.55</td>\n",
       "      <td>95.61</td>\n",
       "      <td>-0.002315</td>\n",
       "      <td>0.027311</td>\n",
       "      <td>0.027678</td>\n",
       "    </tr>\n",
       "    <tr>\n",
       "      <th>2021-01-07</th>\n",
       "      <td>122385</td>\n",
       "      <td>32.83</td>\n",
       "      <td>102.32</td>\n",
       "      <td>0.027208</td>\n",
       "      <td>0.039769</td>\n",
       "      <td>0.067828</td>\n",
       "    </tr>\n",
       "    <tr>\n",
       "      <th>2021-01-08</th>\n",
       "      <td>125076</td>\n",
       "      <td>32.82</td>\n",
       "      <td>102.00</td>\n",
       "      <td>0.021750</td>\n",
       "      <td>-0.000305</td>\n",
       "      <td>-0.003132</td>\n",
       "    </tr>\n",
       "    <tr>\n",
       "      <th>...</th>\n",
       "      <td>...</td>\n",
       "      <td>...</td>\n",
       "      <td>...</td>\n",
       "      <td>...</td>\n",
       "      <td>...</td>\n",
       "      <td>...</td>\n",
       "    </tr>\n",
       "    <tr>\n",
       "      <th>2021-12-23</th>\n",
       "      <td>104891</td>\n",
       "      <td>21.34</td>\n",
       "      <td>79.15</td>\n",
       "      <td>-0.003350</td>\n",
       "      <td>0.005168</td>\n",
       "      <td>-0.009681</td>\n",
       "    </tr>\n",
       "    <tr>\n",
       "      <th>2021-12-27</th>\n",
       "      <td>105554</td>\n",
       "      <td>21.56</td>\n",
       "      <td>78.95</td>\n",
       "      <td>0.006301</td>\n",
       "      <td>0.010257</td>\n",
       "      <td>-0.002530</td>\n",
       "    </tr>\n",
       "    <tr>\n",
       "      <th>2021-12-28</th>\n",
       "      <td>104864</td>\n",
       "      <td>21.48</td>\n",
       "      <td>76.80</td>\n",
       "      <td>-0.006558</td>\n",
       "      <td>-0.003717</td>\n",
       "      <td>-0.027610</td>\n",
       "    </tr>\n",
       "    <tr>\n",
       "      <th>2021-12-29</th>\n",
       "      <td>104107</td>\n",
       "      <td>21.30</td>\n",
       "      <td>77.25</td>\n",
       "      <td>-0.007245</td>\n",
       "      <td>-0.008415</td>\n",
       "      <td>0.005842</td>\n",
       "    </tr>\n",
       "    <tr>\n",
       "      <th>2021-12-30</th>\n",
       "      <td>104822</td>\n",
       "      <td>20.95</td>\n",
       "      <td>77.96</td>\n",
       "      <td>0.006844</td>\n",
       "      <td>-0.016568</td>\n",
       "      <td>0.009149</td>\n",
       "    </tr>\n",
       "  </tbody>\n",
       "</table>\n",
       "<p>247 rows × 6 columns</p>\n",
       "</div>"
      ],
      "text/plain": [
       "              IBOV  ITUB4   VALE3   retIBOV  retITUB4  retVALE3\n",
       "Data                                                           \n",
       "2021-01-04  118854  30.90   91.46       NaN       NaN       NaN\n",
       "2021-01-05  119376  30.70   93.00  0.004382 -0.006494  0.016698\n",
       "2021-01-06  119100  31.55   95.61 -0.002315  0.027311  0.027678\n",
       "2021-01-07  122385  32.83  102.32  0.027208  0.039769  0.067828\n",
       "2021-01-08  125076  32.82  102.00  0.021750 -0.000305 -0.003132\n",
       "...            ...    ...     ...       ...       ...       ...\n",
       "2021-12-23  104891  21.34   79.15 -0.003350  0.005168 -0.009681\n",
       "2021-12-27  105554  21.56   78.95  0.006301  0.010257 -0.002530\n",
       "2021-12-28  104864  21.48   76.80 -0.006558 -0.003717 -0.027610\n",
       "2021-12-29  104107  21.30   77.25 -0.007245 -0.008415  0.005842\n",
       "2021-12-30  104822  20.95   77.96  0.006844 -0.016568  0.009149\n",
       "\n",
       "[247 rows x 6 columns]"
      ]
     },
     "execution_count": 11,
     "metadata": {},
     "output_type": "execute_result"
    }
   ],
   "source": [
    "series['retIBOV'] = np.log(series['IBOV']).diff()\n",
    "series['retITUB4'] = np.log(series['ITUB4']).diff()\n",
    "series['retVALE3'] = np.log(series['VALE3']).diff()\n",
    "series"
   ]
  },
  {
   "cell_type": "markdown",
   "metadata": {},
   "source": [
    "Quantis"
   ]
  },
  {
   "cell_type": "code",
   "execution_count": 12,
   "metadata": {},
   "outputs": [
    {
     "name": "stdout",
     "output_type": "stream",
     "text": [
      "0.25   -0.012366\n",
      "0.50   -0.002117\n",
      "0.75    0.011699\n",
      "Name: retITUB4, dtype: float64\n",
      "0.25   -0.015259\n",
      "0.50   -0.000607\n",
      "0.75    0.012421\n",
      "Name: retVALE3, dtype: float64\n"
     ]
    }
   ],
   "source": [
    "print(series['retITUB4'].quantile([.25, .5, .75]))\n",
    "print(series['retVALE3'].quantile([.25, .5, .75]))"
   ]
  },
  {
   "cell_type": "markdown",
   "metadata": {},
   "source": [
    "Boxplot"
   ]
  },
  {
   "cell_type": "code",
   "execution_count": 13,
   "metadata": {},
   "outputs": [
    {
     "data": {
      "image/png": "[encoded data removed]",
      "text/plain": [
       "<Figure size 432x288 with 1 Axes>"
      ]
     },
     "metadata": {
      "needs_background": "light"
     },
     "output_type": "display_data"
    }
   ],
   "source": [
    "colunas = [series['retITUB4'].dropna(), series['retVALE3'].dropna()]\n",
    "fig, ax = plt.subplots()\n",
    "ax.boxplot(colunas)\n",
    "ax.set_title('Bloxplot dos log-retornos')\n",
    "plt.xticks([1, 2], [\"ITUB4\", \"VALE3\"])\n",
    "plt.show()"
   ]
  },
  {
   "cell_type": "markdown",
   "metadata": {},
   "source": [
    "75 retornos mais recentes"
   ]
  },
  {
   "cell_type": "code",
   "execution_count": 14,
   "metadata": {},
   "outputs": [
    {
     "data": {
      "text/html": [
       "<div>\n",
       "<style scoped>\n",
       "    .dataframe tbody tr th:only-of-type {\n",
       "        vertical-align: middle;\n",
       "    }\n",
       "\n",
       "    .dataframe tbody tr th {\n",
       "        vertical-align: top;\n",
       "    }\n",
       "\n",
       "    .dataframe thead th {\n",
       "        text-align: right;\n",
       "    }\n",
       "</style>\n",
       "<table border=\"1\" class=\"dataframe\">\n",
       "  <thead>\n",
       "    <tr style=\"text-align: right;\">\n",
       "      <th></th>\n",
       "      <th>IBOV</th>\n",
       "      <th>ITUB4</th>\n",
       "      <th>VALE3</th>\n",
       "      <th>retIBOV</th>\n",
       "      <th>retITUB4</th>\n",
       "      <th>retVALE3</th>\n",
       "    </tr>\n",
       "    <tr>\n",
       "      <th>Data</th>\n",
       "      <th></th>\n",
       "      <th></th>\n",
       "      <th></th>\n",
       "      <th></th>\n",
       "      <th></th>\n",
       "      <th></th>\n",
       "    </tr>\n",
       "  </thead>\n",
       "  <tbody>\n",
       "    <tr>\n",
       "      <th>2021-09-13</th>\n",
       "      <td>116403</td>\n",
       "      <td>29.17</td>\n",
       "      <td>94.76</td>\n",
       "      <td>0.018363</td>\n",
       "      <td>0.012418</td>\n",
       "      <td>-0.000528</td>\n",
       "    </tr>\n",
       "    <tr>\n",
       "      <th>2021-09-14</th>\n",
       "      <td>116180</td>\n",
       "      <td>28.99</td>\n",
       "      <td>94.09</td>\n",
       "      <td>-0.001918</td>\n",
       "      <td>-0.006190</td>\n",
       "      <td>-0.007096</td>\n",
       "    </tr>\n",
       "    <tr>\n",
       "      <th>2021-09-15</th>\n",
       "      <td>115062</td>\n",
       "      <td>28.52</td>\n",
       "      <td>91.74</td>\n",
       "      <td>-0.009670</td>\n",
       "      <td>-0.016345</td>\n",
       "      <td>-0.025293</td>\n",
       "    </tr>\n",
       "    <tr>\n",
       "      <th>2021-09-16</th>\n",
       "      <td>113794</td>\n",
       "      <td>28.50</td>\n",
       "      <td>87.93</td>\n",
       "      <td>-0.011081</td>\n",
       "      <td>-0.000702</td>\n",
       "      <td>-0.042417</td>\n",
       "    </tr>\n",
       "    <tr>\n",
       "      <th>2021-09-17</th>\n",
       "      <td>111439</td>\n",
       "      <td>27.82</td>\n",
       "      <td>86.15</td>\n",
       "      <td>-0.020912</td>\n",
       "      <td>-0.024149</td>\n",
       "      <td>-0.020451</td>\n",
       "    </tr>\n",
       "    <tr>\n",
       "      <th>...</th>\n",
       "      <td>...</td>\n",
       "      <td>...</td>\n",
       "      <td>...</td>\n",
       "      <td>...</td>\n",
       "      <td>...</td>\n",
       "      <td>...</td>\n",
       "    </tr>\n",
       "    <tr>\n",
       "      <th>2021-12-23</th>\n",
       "      <td>104891</td>\n",
       "      <td>21.34</td>\n",
       "      <td>79.15</td>\n",
       "      <td>-0.003350</td>\n",
       "      <td>0.005168</td>\n",
       "      <td>-0.009681</td>\n",
       "    </tr>\n",
       "    <tr>\n",
       "      <th>2021-12-27</th>\n",
       "      <td>105554</td>\n",
       "      <td>21.56</td>\n",
       "      <td>78.95</td>\n",
       "      <td>0.006301</td>\n",
       "      <td>0.010257</td>\n",
       "      <td>-0.002530</td>\n",
       "    </tr>\n",
       "    <tr>\n",
       "      <th>2021-12-28</th>\n",
       "      <td>104864</td>\n",
       "      <td>21.48</td>\n",
       "      <td>76.80</td>\n",
       "      <td>-0.006558</td>\n",
       "      <td>-0.003717</td>\n",
       "      <td>-0.027610</td>\n",
       "    </tr>\n",
       "    <tr>\n",
       "      <th>2021-12-29</th>\n",
       "      <td>104107</td>\n",
       "      <td>21.30</td>\n",
       "      <td>77.25</td>\n",
       "      <td>-0.007245</td>\n",
       "      <td>-0.008415</td>\n",
       "      <td>0.005842</td>\n",
       "    </tr>\n",
       "    <tr>\n",
       "      <th>2021-12-30</th>\n",
       "      <td>104822</td>\n",
       "      <td>20.95</td>\n",
       "      <td>77.96</td>\n",
       "      <td>0.006844</td>\n",
       "      <td>-0.016568</td>\n",
       "      <td>0.009149</td>\n",
       "    </tr>\n",
       "  </tbody>\n",
       "</table>\n",
       "<p>75 rows × 6 columns</p>\n",
       "</div>"
      ],
      "text/plain": [
       "              IBOV  ITUB4  VALE3   retIBOV  retITUB4  retVALE3\n",
       "Data                                                          \n",
       "2021-09-13  116403  29.17  94.76  0.018363  0.012418 -0.000528\n",
       "2021-09-14  116180  28.99  94.09 -0.001918 -0.006190 -0.007096\n",
       "2021-09-15  115062  28.52  91.74 -0.009670 -0.016345 -0.025293\n",
       "2021-09-16  113794  28.50  87.93 -0.011081 -0.000702 -0.042417\n",
       "2021-09-17  111439  27.82  86.15 -0.020912 -0.024149 -0.020451\n",
       "...            ...    ...    ...       ...       ...       ...\n",
       "2021-12-23  104891  21.34  79.15 -0.003350  0.005168 -0.009681\n",
       "2021-12-27  105554  21.56  78.95  0.006301  0.010257 -0.002530\n",
       "2021-12-28  104864  21.48  76.80 -0.006558 -0.003717 -0.027610\n",
       "2021-12-29  104107  21.30  77.25 -0.007245 -0.008415  0.005842\n",
       "2021-12-30  104822  20.95  77.96  0.006844 -0.016568  0.009149\n",
       "\n",
       "[75 rows x 6 columns]"
      ]
     },
     "execution_count": 14,
     "metadata": {},
     "output_type": "execute_result"
    }
   ],
   "source": [
    "Series_Recentes = series.tail(75)\n",
    "Series_Recentes"
   ]
  },
  {
   "cell_type": "markdown",
   "metadata": {},
   "source": [
    "Tabela com várias estatísticas"
   ]
  },
  {
   "cell_type": "code",
   "execution_count": 24,
   "metadata": {},
   "outputs": [
    {
     "data": {
      "text/html": [
       "<div>\n",
       "<style scoped>\n",
       "    .dataframe tbody tr th:only-of-type {\n",
       "        vertical-align: middle;\n",
       "    }\n",
       "\n",
       "    .dataframe tbody tr th {\n",
       "        vertical-align: top;\n",
       "    }\n",
       "\n",
       "    .dataframe thead th {\n",
       "        text-align: right;\n",
       "    }\n",
       "</style>\n",
       "<table border=\"1\" class=\"dataframe\">\n",
       "  <thead>\n",
       "    <tr style=\"text-align: right;\">\n",
       "      <th></th>\n",
       "      <th>Média</th>\n",
       "      <th>Mediana</th>\n",
       "      <th>Desvio-Padrão</th>\n",
       "      <th>Assimetria</th>\n",
       "      <th>Curtose</th>\n",
       "      <th>Correlação</th>\n",
       "    </tr>\n",
       "  </thead>\n",
       "  <tbody>\n",
       "    <tr>\n",
       "      <th>ITUB4</th>\n",
       "      <td>-0.004248</td>\n",
       "      <td>-0.003219</td>\n",
       "      <td>0.028934</td>\n",
       "      <td>-3.971086</td>\n",
       "      <td>25.028772</td>\n",
       "      <td>0.564876</td>\n",
       "    </tr>\n",
       "    <tr>\n",
       "      <th>VALE3</th>\n",
       "      <td>-0.002609</td>\n",
       "      <td>-0.003799</td>\n",
       "      <td>0.027447</td>\n",
       "      <td>-0.501681</td>\n",
       "      <td>1.439913</td>\n",
       "      <td>0.362405</td>\n",
       "    </tr>\n",
       "  </tbody>\n",
       "</table>\n",
       "</div>"
      ],
      "text/plain": [
       "          Média   Mediana  Desvio-Padrão  Assimetria    Curtose  Correlação\n",
       "ITUB4 -0.004248 -0.003219       0.028934   -3.971086  25.028772    0.564876\n",
       "VALE3 -0.002609 -0.003799       0.027447   -0.501681   1.439913    0.362405"
      ]
     },
     "execution_count": 24,
     "metadata": {},
     "output_type": "execute_result"
    }
   ],
   "source": [
    "MediaITUB4 = st.mean(Series_Recentes['retITUB4'])\n",
    "MediaVALE3 = st.mean(Series_Recentes['retVALE3'])\n",
    "MedianaITUB4 = st.median(Series_Recentes['retITUB4'])\n",
    "MedianaVALE3 = st.median(Series_Recentes['retVALE3'])\n",
    "DevPadITUB4 = st.stdev(Series_Recentes['retITUB4'])\n",
    "DevPadVALE3 = st.stdev(Series_Recentes['retVALE3'])\n",
    "AssimITUB4 = scipy.stats.skew(Series_Recentes['retITUB4'])\n",
    "AssimVALE3 = scipy.stats.skew(Series_Recentes['retVALE3'])\n",
    "CoefCurtoseITUB4 = scipy.stats.kurtosis(Series_Recentes['retITUB4'])\n",
    "CoefCurtoseVALE3 = scipy.stats.kurtosis(Series_Recentes['retVALE3'])\n",
    "CorrITUB4 = scipy.stats.pearsonr(Series_Recentes['retITUB4'], Series_Recentes['retIBOV'])[0]\n",
    "CorrVALE3 = scipy.stats.pearsonr(Series_Recentes['retVALE3'], Series_Recentes['retIBOV'])[0]\n",
    "\n",
    "tabela_sumario = {'Média': [MediaITUB4,MediaVALE3],\n",
    "\t\t'Mediana': [MedianaITUB4, MedianaVALE3], \n",
    "\t\t'Desvio-Padrão': [DevPadITUB4, DevPadVALE3],\n",
    "\t\t'Assimetria': [AssimITUB4,AssimVALE3],\n",
    "\t\t'Curtose': [CoefCurtoseITUB4, CoefCurtoseVALE3],\n",
    "\t\t'Correlação': [CorrITUB4, CorrVALE3]}\n",
    "\t\n",
    "tabela_sumario = pd.DataFrame(tabela_sumario, index =['ITUB4','VALE3'])\n",
    "tabela_sumario"
   ]
  },
  {
   "cell_type": "markdown",
   "metadata": {},
   "source": [
    "Regressão Linear IBOV x ITUB4"
   ]
  },
  {
   "cell_type": "code",
   "execution_count": 65,
   "metadata": {},
   "outputs": [
    {
     "name": "stdout",
     "output_type": "stream",
     "text": [
      "Coefficients: \n",
      " [4.39247882e-05] [[0.28164014]]\n"
     ]
    }
   ],
   "source": [
    "x = Series_Recentes[['retITUB4']].dropna()\n",
    "y = Series_Recentes[['retIBOV']].dropna()\n",
    "reg = LinearRegression().fit(x, y)\n",
    "print(\"Coefficients: \\n\", reg.intercept_, reg.coef_)"
   ]
  },
  {
   "cell_type": "markdown",
   "metadata": {},
   "source": [
    "Regressão Linear IBOV x VALE3"
   ]
  },
  {
   "cell_type": "code",
   "execution_count": 60,
   "metadata": {},
   "outputs": [
    {
     "name": "stdout",
     "output_type": "stream",
     "text": [
      "Coefficients: \n",
      " [-0.00065545] [[0.19047827]]\n"
     ]
    }
   ],
   "source": [
    "x = Series_Recentes[['retVALE3']].dropna()\n",
    "y = Series_Recentes[['retIBOV']].dropna()\n",
    "reg = LinearRegression().fit(x, y)\n",
    "print(\"Coefficients: \\n\", reg.intercept_, reg.coef_)"
   ]
  },
  {
   "cell_type": "code",
   "execution_count": null,
   "metadata": {},
   "outputs": [],
   "source": []
  }
 ],
 "metadata": {
  "kernelspec": {
   "display_name": "Python 3",
   "language": "python",
   "name": "python3"
  },
  "language_info": {
   "codemirror_mode": {
    "name": "ipython",
    "version": 3
   },
   "file_extension": ".py",
   "mimetype": "text/x-python",
   "name": "python",
   "nbconvert_exporter": "python",
   "pygments_lexer": "ipython3",
   "version": "3.8.5"
  }
 },
 "nbformat": 4,
 "nbformat_minor": 4
}
